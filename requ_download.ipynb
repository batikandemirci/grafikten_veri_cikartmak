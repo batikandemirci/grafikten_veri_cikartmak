{
 "cells": [
  {
   "cell_type": "code",
   "execution_count": 2,
   "id": "dbbf2bc6-706c-4416-b14c-d985590a0cf2",
   "metadata": {
    "tags": []
   },
   "outputs": [
    {
     "name": "stdout",
     "output_type": "stream",
     "text": [
      "Requirement already satisfied: opencv-python in c:\\users\\batikan\\anaconda3\\lib\\site-packages (from -r requirements.txt (line 1)) (4.9.0.80)\n",
      "Requirement already satisfied: boto3 in c:\\users\\batikan\\anaconda3\\lib\\site-packages (from -r requirements.txt (line 2)) (1.34.60)\n",
      "Requirement already satisfied: xlsxwriter in c:\\users\\batikan\\anaconda3\\lib\\site-packages (from -r requirements.txt (line 3)) (3.2.0)\n",
      "Requirement already satisfied: matplotlib in c:\\users\\batikan\\anaconda3\\lib\\site-packages (from -r requirements.txt (line 4)) (3.7.2)\n",
      "Requirement already satisfied: botocore in c:\\users\\batikan\\anaconda3\\lib\\site-packages (from -r requirements.txt (line 5)) (1.34.60)\n",
      "Requirement already satisfied: numpy>=1.21.2 in c:\\users\\batikan\\anaconda3\\lib\\site-packages (from opencv-python->-r requirements.txt (line 1)) (1.24.3)\n",
      "Requirement already satisfied: jmespath<2.0.0,>=0.7.1 in c:\\users\\batikan\\anaconda3\\lib\\site-packages (from boto3->-r requirements.txt (line 2)) (0.10.0)\n",
      "Requirement already satisfied: s3transfer<0.11.0,>=0.10.0 in c:\\users\\batikan\\anaconda3\\lib\\site-packages (from boto3->-r requirements.txt (line 2)) (0.10.0)\n",
      "Requirement already satisfied: contourpy>=1.0.1 in c:\\users\\batikan\\anaconda3\\lib\\site-packages (from matplotlib->-r requirements.txt (line 4)) (1.0.5)\n",
      "Requirement already satisfied: cycler>=0.10 in c:\\users\\batikan\\anaconda3\\lib\\site-packages (from matplotlib->-r requirements.txt (line 4)) (0.11.0)\n",
      "Requirement already satisfied: fonttools>=4.22.0 in c:\\users\\batikan\\anaconda3\\lib\\site-packages (from matplotlib->-r requirements.txt (line 4)) (4.25.0)\n",
      "Requirement already satisfied: kiwisolver>=1.0.1 in c:\\users\\batikan\\anaconda3\\lib\\site-packages (from matplotlib->-r requirements.txt (line 4)) (1.4.4)\n",
      "Requirement already satisfied: packaging>=20.0 in c:\\users\\batikan\\appdata\\roaming\\python\\python311\\site-packages (from matplotlib->-r requirements.txt (line 4)) (23.2)\n",
      "Requirement already satisfied: pillow>=6.2.0 in c:\\users\\batikan\\anaconda3\\lib\\site-packages (from matplotlib->-r requirements.txt (line 4)) (10.0.1)\n",
      "Requirement already satisfied: pyparsing<3.1,>=2.3.1 in c:\\users\\batikan\\anaconda3\\lib\\site-packages (from matplotlib->-r requirements.txt (line 4)) (3.0.9)\n",
      "Requirement already satisfied: python-dateutil>=2.7 in c:\\users\\batikan\\appdata\\roaming\\python\\python311\\site-packages (from matplotlib->-r requirements.txt (line 4)) (2.8.2)\n",
      "Requirement already satisfied: urllib3<2.1,>=1.25.4 in c:\\users\\batikan\\anaconda3\\lib\\site-packages (from botocore->-r requirements.txt (line 5)) (1.26.16)\n",
      "Requirement already satisfied: six>=1.5 in c:\\users\\batikan\\appdata\\roaming\\python\\python311\\site-packages (from python-dateutil>=2.7->matplotlib->-r requirements.txt (line 4)) (1.16.0)\n"
     ]
    }
   ],
   "source": [
    "!pip install -r requirements.txt"
   ]
  },
  {
   "cell_type": "code",
   "execution_count": null,
   "id": "d890cfa8-0544-4dab-844a-9dec44fa3125",
   "metadata": {},
   "outputs": [],
   "source": []
  }
 ],
 "metadata": {
  "kernelspec": {
   "display_name": "Python 3 (ipykernel)",
   "language": "python",
   "name": "python3"
  },
  "language_info": {
   "codemirror_mode": {
    "name": "ipython",
    "version": 3
   },
   "file_extension": ".py",
   "mimetype": "text/x-python",
   "name": "python",
   "nbconvert_exporter": "python",
   "pygments_lexer": "ipython3",
   "version": "3.11.5"
  }
 },
 "nbformat": 4,
 "nbformat_minor": 5
}
